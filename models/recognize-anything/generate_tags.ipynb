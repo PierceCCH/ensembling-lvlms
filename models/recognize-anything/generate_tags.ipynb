{
 "cells": [
  {
   "cell_type": "code",
   "execution_count": 1,
   "metadata": {},
   "outputs": [
    {
     "name": "stderr",
     "output_type": "stream",
     "text": [
      "c:\\Users\\pierc\\miniconda3\\envs\\CS263-MLLM\\Lib\\site-packages\\fairscale\\experimental\\nn\\offload.py:19: FutureWarning: `torch.cuda.amp.custom_fwd(args...)` is deprecated. Please use `torch.amp.custom_fwd(args..., device_type='cuda')` instead.\n",
      "  return torch.cuda.amp.custom_fwd(orig_func)  # type: ignore\n",
      "c:\\Users\\pierc\\miniconda3\\envs\\CS263-MLLM\\Lib\\site-packages\\fairscale\\experimental\\nn\\offload.py:30: FutureWarning: `torch.cuda.amp.custom_bwd(args...)` is deprecated. Please use `torch.amp.custom_bwd(args..., device_type='cuda')` instead.\n",
      "  return torch.cuda.amp.custom_bwd(orig_func)  # type: ignore\n"
     ]
    }
   ],
   "source": [
    "import json\n",
    "import torch\n",
    "\n",
    "from datasets import load_dataset\n",
    "\n",
    "from ram import inference_ram_openset as inference\n",
    "from ram import get_transform\n",
    "from ram.models import ram_plus"
   ]
  },
  {
   "cell_type": "markdown",
   "metadata": {},
   "source": [
    "### Load POPE benchmark dataset"
   ]
  },
  {
   "cell_type": "code",
   "execution_count": 2,
   "metadata": {},
   "outputs": [
    {
     "data": {
      "application/vnd.jupyter.widget-view+json": {
       "model_id": "07a594f8fe6b49b9b078b5dce28e7c2a",
       "version_major": 2,
       "version_minor": 0
      },
      "text/plain": [
       "Filter:   0%|          | 0/9000 [00:00<?, ? examples/s]"
      ]
     },
     "metadata": {},
     "output_type": "display_data"
    },
    {
     "data": {
      "text/plain": [
       "Dataset({\n",
       "    features: ['id', 'question_id', 'question', 'answer', 'image_source', 'image', 'category'],\n",
       "    num_rows: 3000\n",
       "})"
      ]
     },
     "execution_count": 2,
     "metadata": {},
     "output_type": "execute_result"
    }
   ],
   "source": [
    "category = 'adversarial'\n",
    "\n",
    "dataset = load_dataset(\"lmms-lab/POPE\", \"default\")\n",
    "dataset = dataset['test'].filter(lambda x: x['category'] == category)\n",
    "dataset"
   ]
  },
  {
   "cell_type": "code",
   "execution_count": 14,
   "metadata": {},
   "outputs": [],
   "source": [
    "def generate_image_tags(dataset):\n",
    "\n",
    "    device = torch.device('cuda' if torch.cuda.is_available() else 'cpu')\n",
    "    print('Device:', device)\n",
    "\n",
    "    img_size = 384\n",
    "    model_weights = \"pretrained/ram_plus_swin_large_14m.pth\"\n",
    "    output_path = f\"{category}_tags.json\"\n",
    "    with open(output_path, 'w') as f:\n",
    "        f.write('')\n",
    "\n",
    "    transform = get_transform(image_size=img_size)\n",
    "\n",
    "    model = ram_plus(pretrained=model_weights,\n",
    "                    image_size=img_size,\n",
    "                    vit='swin_l'\n",
    "            )\n",
    "    \n",
    "    model.eval()\n",
    "    model = model.to(device)\n",
    "\n",
    "    prev_img_source = None\n",
    "    for idx in range(len(dataset)):\n",
    "        img = dataset['image'][idx]\n",
    "        img_source = dataset['image_source'][idx]\n",
    "\n",
    "        # Skip duplicate images\n",
    "        if img_source == prev_img_source:\n",
    "            continue\n",
    "        prev_img_source = img_source\n",
    "\n",
    "        img = transform(img).unsqueeze(0).to(device)\n",
    "\n",
    "        tags = inference(img, model)\n",
    "        \n",
    "        with open(output_path, 'a') as f:\n",
    "            json.dump({img_source: tags}, f)\n",
    "            f.write(',\\n')\n",
    "\n",
    "        print(img_source, \": \", tags)\n",
    "\n",
    "    print('Tags generated and saved to', output_path)\n"
   ]
  },
  {
   "cell_type": "code",
   "execution_count": null,
   "metadata": {},
   "outputs": [],
   "source": [
    "generate_image_tags(dataset)"
   ]
  }
 ],
 "metadata": {
  "kernelspec": {
   "display_name": "CS263-MLLM",
   "language": "python",
   "name": "python3"
  },
  "language_info": {
   "codemirror_mode": {
    "name": "ipython",
    "version": 3
   },
   "file_extension": ".py",
   "mimetype": "text/x-python",
   "name": "python",
   "nbconvert_exporter": "python",
   "pygments_lexer": "ipython3",
   "version": "3.12.7"
  }
 },
 "nbformat": 4,
 "nbformat_minor": 2
}
