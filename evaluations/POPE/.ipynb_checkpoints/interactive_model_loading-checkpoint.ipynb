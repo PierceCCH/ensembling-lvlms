{
 "cells": [
  {
   "cell_type": "code",
   "execution_count": 1,
   "id": "4d6fd342-63cc-42bd-b14f-398402943b38",
   "metadata": {
    "execution": {
     "iopub.execute_input": "2024-11-15T05:26:26.194228Z",
     "iopub.status.busy": "2024-11-15T05:26:26.193227Z",
     "iopub.status.idle": "2024-11-15T05:26:29.268462Z",
     "shell.execute_reply": "2024-11-15T05:26:29.268462Z",
     "shell.execute_reply.started": "2024-11-15T05:26:26.194228Z"
    }
   },
   "outputs": [],
   "source": [
    "from transformers import LlavaNextProcessor, LlavaNextForConditionalGeneration\n",
    "import torch\n",
    "from PIL import Image\n",
    "import requests\n",
    "from datasets import load_dataset"
   ]
  },
  {
   "cell_type": "code",
   "execution_count": 2,
   "id": "0e40994c-cce3-473d-bb05-8e14372a207e",
   "metadata": {
    "execution": {
     "iopub.execute_input": "2024-11-15T05:26:29.269466Z",
     "iopub.status.busy": "2024-11-15T05:26:29.268462Z",
     "iopub.status.idle": "2024-11-15T05:26:29.271553Z",
     "shell.execute_reply": "2024-11-15T05:26:29.271553Z",
     "shell.execute_reply.started": "2024-11-15T05:26:29.269466Z"
    }
   },
   "outputs": [],
   "source": [
    "device = torch.device('cuda' if torch.cuda.is_available else 'cpu')"
   ]
  },
  {
   "cell_type": "code",
   "execution_count": 3,
   "id": "6a79ce6e-788e-4ad3-811f-7f2cfe7968e9",
   "metadata": {
    "execution": {
     "iopub.execute_input": "2024-11-15T05:26:29.272557Z",
     "iopub.status.busy": "2024-11-15T05:26:29.271553Z",
     "iopub.status.idle": "2024-11-15T05:26:29.277316Z",
     "shell.execute_reply": "2024-11-15T05:26:29.277316Z",
     "shell.execute_reply.started": "2024-11-15T05:26:29.272557Z"
    }
   },
   "outputs": [
    {
     "name": "stdout",
     "output_type": "stream",
     "text": [
      "cuda\n"
     ]
    }
   ],
   "source": [
    "print(device)"
   ]
  },
  {
   "cell_type": "code",
   "execution_count": 4,
   "id": "bbb008f2-d783-4e01-8741-78f7bca75f18",
   "metadata": {
    "execution": {
     "iopub.execute_input": "2024-11-15T05:26:29.278321Z",
     "iopub.status.busy": "2024-11-15T05:26:29.278321Z",
     "iopub.status.idle": "2024-11-15T05:26:29.854738Z",
     "shell.execute_reply": "2024-11-15T05:26:29.854738Z",
     "shell.execute_reply.started": "2024-11-15T05:26:29.278321Z"
    },
    "scrolled": true
   },
   "outputs": [],
   "source": [
    "processor = LlavaNextProcessor.from_pretrained(\"llava-hf/llava-v1.6-mistral-7b-hf\")"
   ]
  },
  {
   "cell_type": "code",
   "execution_count": 16,
   "id": "c8125811-06f9-4e19-b78d-a871b3f5b00a",
   "metadata": {
    "execution": {
     "iopub.execute_input": "2024-11-15T05:47:47.098870Z",
     "iopub.status.busy": "2024-11-15T05:47:47.098870Z",
     "iopub.status.idle": "2024-11-15T05:47:47.108772Z",
     "shell.execute_reply": "2024-11-15T05:47:47.108772Z",
     "shell.execute_reply.started": "2024-11-15T05:47:47.098870Z"
    }
   },
   "outputs": [
    {
     "ename": "AttributeError",
     "evalue": "'LlavaNextProcessor' object has no attribute 'get_special_tokens'",
     "output_type": "error",
     "traceback": [
      "\u001b[1;31m---------------------------------------------------------------------------\u001b[0m",
      "\u001b[1;31mAttributeError\u001b[0m                            Traceback (most recent call last)",
      "Cell \u001b[1;32mIn[16], line 1\u001b[0m\n\u001b[1;32m----> 1\u001b[0m \u001b[38;5;28mprint\u001b[39m(processor\u001b[38;5;241m.\u001b[39mget_special_tokens())\n",
      "\u001b[1;31mAttributeError\u001b[0m: 'LlavaNextProcessor' object has no attribute 'get_special_tokens'"
     ]
    }
   ],
   "source": [
    "print(processor.get_special_tokens())"
   ]
  },
  {
   "cell_type": "code",
   "execution_count": null,
   "id": "e066b23f-51e4-4e37-9d60-8965a5f36c9d",
   "metadata": {},
   "outputs": [],
   "source": []
  },
  {
   "cell_type": "code",
   "execution_count": null,
   "id": "6e871181-8072-42fa-9840-9585b820ce08",
   "metadata": {},
   "outputs": [],
   "source": []
  },
  {
   "cell_type": "code",
   "execution_count": 5,
   "id": "d4cf6d90-011a-4909-998e-6bab1f7d1678",
   "metadata": {
    "execution": {
     "iopub.execute_input": "2024-11-15T05:26:29.854738Z",
     "iopub.status.busy": "2024-11-15T05:26:29.854738Z",
     "iopub.status.idle": "2024-11-15T05:26:35.236429Z",
     "shell.execute_reply": "2024-11-15T05:26:35.236429Z",
     "shell.execute_reply.started": "2024-11-15T05:26:29.854738Z"
    }
   },
   "outputs": [
    {
     "data": {
      "application/vnd.jupyter.widget-view+json": {
       "model_id": "7495907361bd4ed6ad37d8414c658d62",
       "version_major": 2,
       "version_minor": 0
      },
      "text/plain": [
       "Loading checkpoint shards:   0%|          | 0/4 [00:00<?, ?it/s]"
      ]
     },
     "metadata": {},
     "output_type": "display_data"
    },
    {
     "data": {
      "text/plain": [
       "LlavaNextForConditionalGeneration(\n",
       "  (vision_tower): CLIPVisionModel(\n",
       "    (vision_model): CLIPVisionTransformer(\n",
       "      (embeddings): CLIPVisionEmbeddings(\n",
       "        (patch_embedding): Conv2d(3, 1024, kernel_size=(14, 14), stride=(14, 14), bias=False)\n",
       "        (position_embedding): Embedding(577, 1024)\n",
       "      )\n",
       "      (pre_layrnorm): LayerNorm((1024,), eps=1e-05, elementwise_affine=True)\n",
       "      (encoder): CLIPEncoder(\n",
       "        (layers): ModuleList(\n",
       "          (0-23): 24 x CLIPEncoderLayer(\n",
       "            (self_attn): CLIPSdpaAttention(\n",
       "              (k_proj): Linear(in_features=1024, out_features=1024, bias=True)\n",
       "              (v_proj): Linear(in_features=1024, out_features=1024, bias=True)\n",
       "              (q_proj): Linear(in_features=1024, out_features=1024, bias=True)\n",
       "              (out_proj): Linear(in_features=1024, out_features=1024, bias=True)\n",
       "            )\n",
       "            (layer_norm1): LayerNorm((1024,), eps=1e-05, elementwise_affine=True)\n",
       "            (mlp): CLIPMLP(\n",
       "              (activation_fn): QuickGELUActivation()\n",
       "              (fc1): Linear(in_features=1024, out_features=4096, bias=True)\n",
       "              (fc2): Linear(in_features=4096, out_features=1024, bias=True)\n",
       "            )\n",
       "            (layer_norm2): LayerNorm((1024,), eps=1e-05, elementwise_affine=True)\n",
       "          )\n",
       "        )\n",
       "      )\n",
       "      (post_layernorm): LayerNorm((1024,), eps=1e-05, elementwise_affine=True)\n",
       "    )\n",
       "  )\n",
       "  (multi_modal_projector): LlavaNextMultiModalProjector(\n",
       "    (linear_1): Linear(in_features=1024, out_features=4096, bias=True)\n",
       "    (act): GELUActivation()\n",
       "    (linear_2): Linear(in_features=4096, out_features=4096, bias=True)\n",
       "  )\n",
       "  (language_model): MistralForCausalLM(\n",
       "    (model): MistralModel(\n",
       "      (embed_tokens): Embedding(32064, 4096)\n",
       "      (layers): ModuleList(\n",
       "        (0-31): 32 x MistralDecoderLayer(\n",
       "          (self_attn): MistralSdpaAttention(\n",
       "            (q_proj): Linear(in_features=4096, out_features=4096, bias=False)\n",
       "            (k_proj): Linear(in_features=4096, out_features=1024, bias=False)\n",
       "            (v_proj): Linear(in_features=4096, out_features=1024, bias=False)\n",
       "            (o_proj): Linear(in_features=4096, out_features=4096, bias=False)\n",
       "            (rotary_emb): MistralRotaryEmbedding()\n",
       "          )\n",
       "          (mlp): MistralMLP(\n",
       "            (gate_proj): Linear(in_features=4096, out_features=14336, bias=False)\n",
       "            (up_proj): Linear(in_features=4096, out_features=14336, bias=False)\n",
       "            (down_proj): Linear(in_features=14336, out_features=4096, bias=False)\n",
       "            (act_fn): SiLU()\n",
       "          )\n",
       "          (input_layernorm): MistralRMSNorm((4096,), eps=1e-05)\n",
       "          (post_attention_layernorm): MistralRMSNorm((4096,), eps=1e-05)\n",
       "        )\n",
       "      )\n",
       "      (norm): MistralRMSNorm((4096,), eps=1e-05)\n",
       "    )\n",
       "    (lm_head): Linear(in_features=4096, out_features=32064, bias=False)\n",
       "  )\n",
       ")"
      ]
     },
     "execution_count": 5,
     "metadata": {},
     "output_type": "execute_result"
    }
   ],
   "source": [
    "model = LlavaNextForConditionalGeneration.from_pretrained(\"llava-hf/llava-v1.6-mistral-7b-hf\", torch_dtype=torch.float16, low_cpu_mem_usage=True, device_map=device) \n",
    "model.to(device)"
   ]
  },
  {
   "cell_type": "code",
   "execution_count": 6,
   "id": "2e9d5ebc-a93a-43af-b341-b866ad5a2eca",
   "metadata": {
    "execution": {
     "iopub.execute_input": "2024-11-15T05:26:35.237433Z",
     "iopub.status.busy": "2024-11-15T05:26:35.237433Z",
     "iopub.status.idle": "2024-11-15T05:26:35.240433Z",
     "shell.execute_reply": "2024-11-15T05:26:35.240433Z",
     "shell.execute_reply.started": "2024-11-15T05:26:35.237433Z"
    }
   },
   "outputs": [
    {
     "name": "stdout",
     "output_type": "stream",
     "text": [
      "NVIDIA GeForce RTX 4090\n",
      "Memory Usage:\n",
      "Allocated: 14.1 GB\n",
      "Cached:    14.2 GB\n"
     ]
    }
   ],
   "source": [
    "#check where the tensors are allocated\n",
    "if device.type == 'cuda':\n",
    "    print(torch.cuda.get_device_name(0))\n",
    "    print('Memory Usage:')\n",
    "    print('Allocated:', round(torch.cuda.memory_allocated(0)/1024**3,1), 'GB')\n",
    "    print('Cached:   ', round(torch.cuda.memory_reserved(0)/1024**3,1), 'GB')"
   ]
  },
  {
   "cell_type": "code",
   "execution_count": 7,
   "id": "62f6037d-d617-490b-95dd-12304946c496",
   "metadata": {
    "execution": {
     "iopub.execute_input": "2024-11-15T05:26:35.241437Z",
     "iopub.status.busy": "2024-11-15T05:26:35.240433Z",
     "iopub.status.idle": "2024-11-15T05:26:37.900310Z",
     "shell.execute_reply": "2024-11-15T05:26:37.900063Z",
     "shell.execute_reply.started": "2024-11-15T05:26:35.241437Z"
    }
   },
   "outputs": [],
   "source": [
    "dataset = load_dataset(\"lmms-lab/POPE\", \"default\")"
   ]
  },
  {
   "cell_type": "code",
   "execution_count": 8,
   "id": "a9808cbe-81fe-4c7b-a122-0a11ec95fd53",
   "metadata": {
    "execution": {
     "iopub.execute_input": "2024-11-15T05:26:37.900310Z",
     "iopub.status.busy": "2024-11-15T05:26:37.900310Z",
     "iopub.status.idle": "2024-11-15T05:26:37.904504Z",
     "shell.execute_reply": "2024-11-15T05:26:37.904504Z",
     "shell.execute_reply.started": "2024-11-15T05:26:37.900310Z"
    },
    "scrolled": true
   },
   "outputs": [],
   "source": [
    "dataset = dataset['test'].filter(lambda x: x['category'] == 'adversarial')"
   ]
  },
  {
   "cell_type": "code",
   "execution_count": 13,
   "id": "165d4719-7940-4b54-9037-ebcd5945c9c3",
   "metadata": {
    "execution": {
     "iopub.execute_input": "2024-11-15T05:31:10.712004Z",
     "iopub.status.busy": "2024-11-15T05:31:10.711004Z",
     "iopub.status.idle": "2024-11-15T05:31:10.714592Z",
     "shell.execute_reply": "2024-11-15T05:31:10.714592Z",
     "shell.execute_reply.started": "2024-11-15T05:31:10.712004Z"
    }
   },
   "outputs": [],
   "source": [
    "def generate_response(question, image):\n",
    "    \"\"\" Prompt model with question regarding image and generate response.\n",
    "\n",
    "    Args:\n",
    "        question (str): question regarding the image content\n",
    "        image_path (str): PIL image object\n",
    "    \n",
    "    Returns:\n",
    "        response (str): model's response to the question\n",
    "    \"\"\"\n",
    "    inputs = processor(images=image, text=question, return_tensors=\"pt\").to(device)\n",
    "    \n",
    "    with torch.no_grad():\n",
    "        outputs = model.generate(**inputs)\n",
    "        response = tokenizer.decode(outputs[0], skip_special_tokens=True)\n",
    "    \n",
    "    return response"
   ]
  },
  {
   "cell_type": "code",
   "execution_count": 43,
   "id": "a15ec993-56f2-41f6-b37c-92929d66e2a7",
   "metadata": {
    "execution": {
     "iopub.execute_input": "2024-11-15T06:43:50.504628Z",
     "iopub.status.busy": "2024-11-15T06:43:50.504628Z",
     "iopub.status.idle": "2024-11-15T06:43:50.507490Z",
     "shell.execute_reply": "2024-11-15T06:43:50.507490Z",
     "shell.execute_reply.started": "2024-11-15T06:43:50.504628Z"
    }
   },
   "outputs": [],
   "source": [
    "def generate_response_new(question,image):\n",
    "    conversation = [\n",
    "    {\n",
    "        \"role\": \"user\",\n",
    "        \"content\": [\n",
    "            {\"type\": \"image\"},\n",
    "            {\"type\": \"text\", \"text\": question},\n",
    "        ],\n",
    "    },\n",
    "]\n",
    "    prompt = processor.apply_chat_template(conversation, add_generation_prompt=True)\n",
    "    inputs = processor(image, prompt, return_tensors=\"pt\").to(\"cuda:0\")\n",
    "    _, length_inputs = inputs[\"input_ids\"].shape\n",
    "    print(\"length of inputs: \", length_inputs)\n",
    "    # autoregressively complete prompt\n",
    "    output = model.generate(**inputs, max_new_tokens=100)\n",
    "    output = output[:, length_inputs:]\n",
    "    \n",
    "    return processor.decode(output[0], skip_special_tokens=True, clean_up_tokenization_spaces=True)"
   ]
  },
  {
   "cell_type": "code",
   "execution_count": 44,
   "id": "96bbf1fe-3e00-4285-9872-09a6826ee7a3",
   "metadata": {
    "execution": {
     "iopub.execute_input": "2024-11-15T06:43:52.495183Z",
     "iopub.status.busy": "2024-11-15T06:43:52.495183Z",
     "iopub.status.idle": "2024-11-15T06:43:59.743688Z",
     "shell.execute_reply": "2024-11-15T06:43:59.743688Z",
     "shell.execute_reply.started": "2024-11-15T06:43:52.495183Z"
    }
   },
   "outputs": [
    {
     "name": "stderr",
     "output_type": "stream",
     "text": [
      "Setting `pad_token_id` to `eos_token_id`:None for open-end generation.\n"
     ]
    },
    {
     "name": "stdout",
     "output_type": "stream",
     "text": [
      "length of inputs:  21\n"
     ]
    },
    {
     "ename": "NameError",
     "evalue": "name 'output_path' is not defined",
     "output_type": "error",
     "traceback": [
      "\u001b[1;31m---------------------------------------------------------------------------\u001b[0m",
      "\u001b[1;31mNameError\u001b[0m                                 Traceback (most recent call last)",
      "Cell \u001b[1;32mIn[44], line 15\u001b[0m\n\u001b[0;32m      8\u001b[0m     responses\u001b[38;5;241m.\u001b[39mappend({\n\u001b[0;32m      9\u001b[0m         \u001b[38;5;124m'\u001b[39m\u001b[38;5;124mquestion\u001b[39m\u001b[38;5;124m'\u001b[39m: question,\n\u001b[0;32m     10\u001b[0m         \u001b[38;5;124m'\u001b[39m\u001b[38;5;124mresponse\u001b[39m\u001b[38;5;124m'\u001b[39m: response\n\u001b[0;32m     11\u001b[0m     })\n\u001b[0;32m     14\u001b[0m \u001b[38;5;66;03m# Write responses to file\u001b[39;00m\n\u001b[1;32m---> 15\u001b[0m \u001b[38;5;28;01mwith\u001b[39;00m \u001b[38;5;28mopen\u001b[39m(output_path, \u001b[38;5;124m'\u001b[39m\u001b[38;5;124mw\u001b[39m\u001b[38;5;124m'\u001b[39m) \u001b[38;5;28;01mas\u001b[39;00m f:\n\u001b[0;32m     16\u001b[0m     json\u001b[38;5;241m.\u001b[39mdump(responses, f, indent\u001b[38;5;241m=\u001b[39m\u001b[38;5;241m4\u001b[39m)\n\u001b[0;32m     18\u001b[0m \u001b[38;5;28mprint\u001b[39m(\u001b[38;5;124mf\u001b[39m\u001b[38;5;124m\"\u001b[39m\u001b[38;5;124mLLaVa\u001b[39m\u001b[38;5;124m'\u001b[39m\u001b[38;5;124ms responses have been saved to \u001b[39m\u001b[38;5;132;01m{\u001b[39;00moutput_path\u001b[38;5;132;01m}\u001b[39;00m\u001b[38;5;124m\"\u001b[39m)\n",
      "\u001b[1;31mNameError\u001b[0m: name 'output_path' is not defined"
     ]
    }
   ],
   "source": [
    "responses = []\n",
    "for idx in range(len(dataset)):\n",
    "    question = dataset['question'][idx]\n",
    "    image = dataset['image'][idx]\n",
    "    response = generate_response_new(question, image)\n",
    "\n",
    "    responses.append({\n",
    "        'question': question,\n",
    "        'response': response\n",
    "    })\n",
    "\n",
    "\n",
    "# Write responses to file\n",
    "with open(output_path, 'w') as f:\n",
    "    json.dump(responses, f, indent=4)\n",
    "\n",
    "print(f\"LLaVa's responses have been saved to {output_path}\")"
   ]
  },
  {
   "cell_type": "code",
   "execution_count": null,
   "id": "3e8bf184-deb0-4d7b-8b9f-49bf01cdf8e2",
   "metadata": {},
   "outputs": [],
   "source": []
  }
 ],
 "metadata": {
  "kernelspec": {
   "display_name": "Python 3 (ipykernel)",
   "language": "python",
   "name": "python3"
  },
  "language_info": {
   "codemirror_mode": {
    "name": "ipython",
    "version": 3
   },
   "file_extension": ".py",
   "mimetype": "text/x-python",
   "name": "python",
   "nbconvert_exporter": "python",
   "pygments_lexer": "ipython3",
   "version": "3.12.7"
  }
 },
 "nbformat": 4,
 "nbformat_minor": 5
}
