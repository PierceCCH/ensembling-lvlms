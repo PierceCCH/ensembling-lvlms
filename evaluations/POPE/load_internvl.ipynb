{
 "cells": [
  {
   "cell_type": "code",
   "execution_count": null,
   "id": "1e055263-d78d-498a-9de8-fdafbdc50889",
   "metadata": {
    "execution": {
     "iopub.execute_input": "2024-11-18T03:33:44.295301Z",
     "iopub.status.busy": "2024-11-18T03:33:44.295301Z",
     "iopub.status.idle": "2024-11-18T03:33:47.583391Z",
     "shell.execute_reply": "2024-11-18T03:33:47.583391Z",
     "shell.execute_reply.started": "2024-11-18T03:33:44.295301Z"
    }
   },
   "outputs": [],
   "source": [
    "import os\n",
    "import json\n",
    "import torch\n",
    "from datasets import load_dataset\n",
    "from transformers import AutoTokenizer, AutoModel\n",
    "import torchvision.transforms as T\n",
    "from PIL import Image\n",
    "from torchvision.transforms.functional import InterpolationMode\n",
    "import re"
   ]
  },
  {
   "cell_type": "code",
   "execution_count": null,
   "id": "eb85ca52-3683-4742-b811-7484f4490604",
   "metadata": {
    "execution": {
     "iopub.execute_input": "2024-11-18T03:33:47.788217Z",
     "iopub.status.busy": "2024-11-18T03:33:47.788217Z",
     "iopub.status.idle": "2024-11-18T03:33:47.790868Z",
     "shell.execute_reply": "2024-11-18T03:33:47.790868Z",
     "shell.execute_reply.started": "2024-11-18T03:33:47.788217Z"
    }
   },
   "outputs": [],
   "source": [
    "device = torch.device('cuda' if torch.cuda.is_available else 'cpu')"
   ]
  },
  {
   "cell_type": "code",
   "execution_count": null,
   "id": "40e99613-df6f-4dee-ac52-668eeed46b87",
   "metadata": {
    "execution": {
     "iopub.execute_input": "2024-11-18T03:33:48.654969Z",
     "iopub.status.busy": "2024-11-18T03:33:48.654969Z",
     "iopub.status.idle": "2024-11-18T03:33:48.657975Z",
     "shell.execute_reply": "2024-11-18T03:33:48.657975Z",
     "shell.execute_reply.started": "2024-11-18T03:33:48.654969Z"
    }
   },
   "outputs": [],
   "source": [
    "print(device)"
   ]
  },
  {
   "cell_type": "code",
   "execution_count": null,
   "id": "5f701982-570c-43cf-aa5e-d404054c7ee2",
   "metadata": {
    "execution": {
     "iopub.execute_input": "2024-11-18T03:33:49.540206Z",
     "iopub.status.busy": "2024-11-18T03:33:49.540206Z",
     "iopub.status.idle": "2024-11-18T03:33:49.546510Z",
     "shell.execute_reply": "2024-11-18T03:33:49.546510Z",
     "shell.execute_reply.started": "2024-11-18T03:33:49.540206Z"
    }
   },
   "outputs": [],
   "source": [
    "IMAGENET_MEAN = (0.485, 0.456, 0.406)\n",
    "IMAGENET_STD = (0.229, 0.224, 0.225)\n",
    "\n",
    "def build_transform(input_size):\n",
    "    MEAN, STD = IMAGENET_MEAN, IMAGENET_STD\n",
    "    transform = T.Compose([\n",
    "        T.Lambda(lambda img: img.convert('RGB') if img.mode != 'RGB' else img),\n",
    "        T.Resize((input_size, input_size), interpolation=InterpolationMode.BICUBIC),\n",
    "        T.ToTensor(),\n",
    "        T.Normalize(mean=MEAN, std=STD)\n",
    "    ])\n",
    "    return transform\n",
    "\n",
    "def find_closest_aspect_ratio(aspect_ratio, target_ratios, width, height, image_size):\n",
    "    best_ratio_diff = float('inf')\n",
    "    best_ratio = (1, 1)\n",
    "    area = width * height\n",
    "    for ratio in target_ratios:\n",
    "        target_aspect_ratio = ratio[0] / ratio[1]\n",
    "        ratio_diff = abs(aspect_ratio - target_aspect_ratio)\n",
    "        if ratio_diff < best_ratio_diff:\n",
    "            best_ratio_diff = ratio_diff\n",
    "            best_ratio = ratio\n",
    "        elif ratio_diff == best_ratio_diff:\n",
    "            if area > 0.5 * image_size * image_size * ratio[0] * ratio[1]:\n",
    "                best_ratio = ratio\n",
    "    return best_ratio\n",
    "\n",
    "def dynamic_preprocess(image, min_num=1, max_num=12, image_size=448, use_thumbnail=False):\n",
    "    orig_width, orig_height = image.size\n",
    "    aspect_ratio = orig_width / orig_height\n",
    "\n",
    "    # calculate the existing image aspect ratio\n",
    "    target_ratios = set(\n",
    "        (i, j) for n in range(min_num, max_num + 1) for i in range(1, n + 1) for j in range(1, n + 1) if\n",
    "        i * j <= max_num and i * j >= min_num)\n",
    "    target_ratios = sorted(target_ratios, key=lambda x: x[0] * x[1])\n",
    "\n",
    "    # find the closest aspect ratio to the target\n",
    "    target_aspect_ratio = find_closest_aspect_ratio(\n",
    "        aspect_ratio, target_ratios, orig_width, orig_height, image_size)\n",
    "\n",
    "    # calculate the target width and height\n",
    "    target_width = image_size * target_aspect_ratio[0]\n",
    "    target_height = image_size * target_aspect_ratio[1]\n",
    "    blocks = target_aspect_ratio[0] * target_aspect_ratio[1]\n",
    "\n",
    "    # resize the image\n",
    "    resized_img = image.resize((target_width, target_height))\n",
    "    processed_images = []\n",
    "    for i in range(blocks):\n",
    "        box = (\n",
    "            (i % (target_width // image_size)) * image_size,\n",
    "            (i // (target_width // image_size)) * image_size,\n",
    "            ((i % (target_width // image_size)) + 1) * image_size,\n",
    "            ((i // (target_width // image_size)) + 1) * image_size\n",
    "        )\n",
    "        # split the image\n",
    "        split_img = resized_img.crop(box)\n",
    "        processed_images.append(split_img)\n",
    "    assert len(processed_images) == blocks\n",
    "    if use_thumbnail and len(processed_images) != 1:\n",
    "        thumbnail_img = image.resize((image_size, image_size))\n",
    "        processed_images.append(thumbnail_img)\n",
    "    return processed_images\n",
    "\n",
    "def load_image(image_file, input_size=448, max_num=12):\n",
    "    image = image_file\n",
    "    transform = build_transform(input_size=input_size)\n",
    "    images = dynamic_preprocess(image, image_size=input_size, use_thumbnail=True, max_num=max_num)\n",
    "    pixel_values = [transform(image) for image in images]\n",
    "    pixel_values = torch.stack(pixel_values)\n",
    "    return pixel_values"
   ]
  },
  {
   "cell_type": "code",
   "execution_count": null,
   "id": "73930f20-fc44-455c-b150-be42774e0645",
   "metadata": {
    "execution": {
     "iopub.execute_input": "2024-11-18T03:33:55.758191Z",
     "iopub.status.busy": "2024-11-18T03:33:55.758191Z",
     "iopub.status.idle": "2024-11-18T03:33:59.589795Z",
     "shell.execute_reply": "2024-11-18T03:33:59.589795Z",
     "shell.execute_reply.started": "2024-11-18T03:33:55.758191Z"
    }
   },
   "outputs": [],
   "source": [
    "path = \"OpenGVLab/InternVL2-4B\"\n",
    "model = AutoModel.from_pretrained(\n",
    "    path,\n",
    "    torch_dtype=torch.bfloat16,\n",
    "    low_cpu_mem_usage=True,\n",
    "    use_flash_attn=True,\n",
    "    trust_remote_code=True).eval().cuda()"
   ]
  },
  {
   "cell_type": "code",
   "execution_count": null,
   "id": "ea55f718-7763-4835-a985-dc776bde2547",
   "metadata": {
    "execution": {
     "iopub.execute_input": "2024-11-18T03:33:59.590299Z",
     "iopub.status.busy": "2024-11-18T03:33:59.590299Z",
     "iopub.status.idle": "2024-11-18T03:33:59.793229Z",
     "shell.execute_reply": "2024-11-18T03:33:59.793229Z",
     "shell.execute_reply.started": "2024-11-18T03:33:59.590299Z"
    }
   },
   "outputs": [],
   "source": [
    "tokenizer = AutoTokenizer.from_pretrained(path, trust_remote_code=True, use_fast=False)"
   ]
  },
  {
   "cell_type": "code",
   "execution_count": null,
   "id": "e10bf8d5-e44b-487e-a684-ce604be6aae7",
   "metadata": {
    "execution": {
     "iopub.execute_input": "2024-11-18T03:34:03.097571Z",
     "iopub.status.busy": "2024-11-18T03:34:03.096571Z",
     "iopub.status.idle": "2024-11-18T03:34:03.100713Z",
     "shell.execute_reply": "2024-11-18T03:34:03.100713Z",
     "shell.execute_reply.started": "2024-11-18T03:34:03.097571Z"
    }
   },
   "outputs": [],
   "source": [
    "#check where the tensors are allocated\n",
    "if device.type == 'cuda':\n",
    "    print(torch.cuda.get_device_name(0))\n",
    "    print('Memory Usage:')\n",
    "    print('Allocated:', round(torch.cuda.memory_allocated(0)/1024**3,1), 'GB')\n",
    "    print('Cached:   ', round(torch.cuda.memory_reserved(0)/1024**3,1), 'GB')"
   ]
  },
  {
   "cell_type": "code",
   "execution_count": null,
   "id": "1a3cd464-d0fe-4409-84ca-45233e53b04a",
   "metadata": {
    "execution": {
     "iopub.execute_input": "2024-11-18T03:34:11.581134Z",
     "iopub.status.busy": "2024-11-18T03:34:11.581134Z",
     "iopub.status.idle": "2024-11-18T03:34:11.584643Z",
     "shell.execute_reply": "2024-11-18T03:34:11.584643Z",
     "shell.execute_reply.started": "2024-11-18T03:34:11.581134Z"
    }
   },
   "outputs": [],
   "source": [
    "#loading either hallusionbench or POPE\n",
    "def generate_response(question, image):\n",
    "    \"\"\" Prompt model with question regarding image and generate response.\n",
    "    Args:\n",
    "        question (str): question regarding the image content\n",
    "        image_path (str): PIL image object\n",
    "    \n",
    "    Returns:\n",
    "        response (str): model's response to the question\n",
    "    \"\"\"\n",
    "    if image:\n",
    "        pixel_values = load_image(image, max_num=12).to(torch.bfloat16).cuda() \n",
    "    generation_config = dict(max_new_tokens=1024, do_sample=True)\n",
    "    response, _ = model.chat(tokenizer, None, question, generation_config, history=None, return_history=True)\n",
    "    \n",
    "    return response"
   ]
  },
  {
   "cell_type": "code",
   "execution_count": null,
   "id": "579639bc-a3a3-4ba5-a453-098b94c98283",
   "metadata": {
    "execution": {
     "iopub.execute_input": "2024-11-18T03:16:03.009767Z",
     "iopub.status.busy": "2024-11-18T03:16:03.008763Z",
     "iopub.status.idle": "2024-11-18T03:16:05.792213Z",
     "shell.execute_reply": "2024-11-18T03:16:05.792213Z",
     "shell.execute_reply.started": "2024-11-18T03:16:03.009767Z"
    }
   },
   "outputs": [],
   "source": [
    "# # Load POPE benchmark dataset\n",
    "# dataset = load_dataset(\"lmms-lab/POPE\", \"default\")\n",
    "# dataset = dataset['test'].filter(lambda x: x['category'] == 'adversarial')\n",
    "\n",
    "# dataset"
   ]
  },
  {
   "cell_type": "code",
   "execution_count": null,
   "id": "a9e8c786-eaf3-40ca-b534-bdcd14d725a9",
   "metadata": {
    "execution": {
     "iopub.execute_input": "2024-11-18T03:34:28.332929Z",
     "iopub.status.busy": "2024-11-18T03:34:28.332929Z",
     "iopub.status.idle": "2024-11-18T03:34:38.163466Z",
     "shell.execute_reply": "2024-11-18T03:34:38.163466Z",
     "shell.execute_reply.started": "2024-11-18T03:34:28.332929Z"
    }
   },
   "outputs": [],
   "source": [
    "#Load the Hallusion Bench dataset\n",
    "dataset = load_dataset(\"lmms-lab/HallusionBench\", \"default\")\n",
    "dataset = dataset['image']\n",
    "\n",
    "dataset"
   ]
  },
  {
   "cell_type": "code",
   "execution_count": null,
   "id": "926fcf1c-ec86-4508-8172-b3d53731e1b7",
   "metadata": {
    "execution": {
     "iopub.execute_input": "2024-11-18T03:38:39.230053Z",
     "iopub.status.busy": "2024-11-18T03:38:39.230053Z",
     "iopub.status.idle": "2024-11-18T03:38:39.234166Z",
     "shell.execute_reply": "2024-11-18T03:38:39.234166Z",
     "shell.execute_reply.started": "2024-11-18T03:38:39.230053Z"
    }
   },
   "outputs": [],
   "source": [
    "#access the RAM tags\n",
    "# pope_tag_path =  \"../../models/recognize-anything/pope_tags.json\"\n",
    "hallusion_tag_path = \"../../models/recognize-anything/hallusionBench_tags.json\"\n",
    "\n",
    "def tags_to_dict(filepath):\n",
    "    filepath = filepath\n",
    "    ram_data = {}\n",
    "    with open(filepath, 'r') as file:\n",
    "        for line in file:\n",
    "            line = line.strip().rstrip(\",\")\n",
    "    \n",
    "            data_entry = json.loads(line)\n",
    "    \n",
    "            ram_data.update(data_entry)\n",
    "    return ram_data\n",
    "\n",
    "ram_data = tags_to_dict(hallusion_tag_path)"
   ]
  },
  {
   "cell_type": "code",
   "execution_count": null,
   "id": "8a6ac63b-4186-4064-85e7-69ccbe3b6e00",
   "metadata": {
    "execution": {
     "iopub.execute_input": "2024-11-18T03:39:35.163601Z",
     "iopub.status.busy": "2024-11-18T03:39:35.163601Z",
     "iopub.status.idle": "2024-11-18T03:39:35.166547Z",
     "shell.execute_reply": "2024-11-18T03:39:35.166547Z",
     "shell.execute_reply.started": "2024-11-18T03:39:35.163601Z"
    }
   },
   "outputs": [],
   "source": [
    "def obtain_attributes(img_src):\n",
    "    \"\"\"\n",
    "    Returns the attributes identified by RAM.\n",
    "    \"\"\"\n",
    "    injection = \"This image has these attributes: \"\n",
    "    image_attrs = ram_data[img_src]\n",
    "    image_attrs = image_attrs.replace('|',' ').split()\n",
    "    injection = \"This image has these attributes: \"\n",
    "    for i in range(len(image_attrs)):\n",
    "        if i == len(image_attrs) - 2:\n",
    "            injection = injection + image_attrs[i]+\", and \"\n",
    "        elif i == len(image_attrs) - 1:\n",
    "            injection = injection + image_attrs[i] +\". \"\n",
    "        else:\n",
    "            injection = injection + image_attrs[i] + \", \"\n",
    "    return injection"
   ]
  },
  {
   "cell_type": "code",
   "execution_count": null,
   "id": "ceb2a074-07c8-45df-8f29-aef7a99f1b79",
   "metadata": {
    "execution": {
     "iopub.execute_input": "2024-11-18T03:39:36.525927Z",
     "iopub.status.busy": "2024-11-18T03:39:36.525927Z",
     "iopub.status.idle": "2024-11-18T03:39:36.529250Z",
     "shell.execute_reply": "2024-11-18T03:39:36.529250Z",
     "shell.execute_reply.started": "2024-11-18T03:39:36.525927Z"
    }
   },
   "outputs": [],
   "source": [
    "def inject_info(img_src, question):\n",
    "    \"\"\"\n",
    "    Injects prompt with any needed information. So given question, it will tell the lvlm also what it contains.\n",
    "    Should fine-tune prompt later.\n",
    "    \"\"\"\n",
    "    image_attrs = ram_data[img_src]\n",
    "    image_attrs = image_attrs.replace('|',' ').split()\n",
    "    injection = obtain_attributes(img_src)\n",
    "    injection = f\"Answer the question using a single word or phrase. {question}\"\n",
    "    \n",
    "    return injection"
   ]
  },
  {
   "cell_type": "code",
   "execution_count": null,
   "id": "27ccab20-f68a-4368-8bdb-29982f5fbad0",
   "metadata": {
    "execution": {
     "iopub.execute_input": "2024-11-18T03:39:41.191554Z",
     "iopub.status.busy": "2024-11-18T03:39:41.191554Z",
     "iopub.status.idle": "2024-11-18T03:39:41.193867Z",
     "shell.execute_reply": "2024-11-18T03:39:41.193867Z",
     "shell.execute_reply.started": "2024-11-18T03:39:41.191554Z"
    }
   },
   "outputs": [],
   "source": [
    "def llm_prompting(img_src, question):\n",
    "    attrs = obtain_attributes(img_src)\n",
    "    attrs = attrs[0].lower() + attrs[1:]\n",
    "    prompt = f\"Given that {attrs} Generate a description involving these attributes to best answer this question but do not answer the question: {question}\"\n",
    "    llm_prompt = generate_response(prompt, None)\n",
    "    return llm_prompt"
   ]
  },
  {
   "cell_type": "code",
   "execution_count": null,
   "id": "2a6ed789",
   "metadata": {},
   "outputs": [],
   "source": [
    "def inject_info(img_src, question):\n",
    "    \"\"\"\n",
    "    Injects prompt with any needed information. So given question, it will tell the lvlm also what it contains.\n",
    "    Should fine-tune prompt later.\n",
    "    \"\"\"\n",
    "    image_attrs = ram_data[img_src]\n",
    "    image_attrs = image_attrs.replace('|',' ').split()\n",
    "    injection = obtain_attributes(img_src)\n",
    "    injection = f\"Objects in the image: {injection}. {question}\"\n",
    "    \n",
    "    return injection"
   ]
  },
  {
   "cell_type": "code",
   "execution_count": null,
   "id": "5909b010",
   "metadata": {},
   "outputs": [],
   "source": [
    "# # For POPE\n",
    "# internvl_pope_output_path = os.path.join(os.curdir, \"internvl_RAM_pope_responses.json\")\n",
    "\n",
    "# for idx in range(len(dataset)):\n",
    "#     question = dataset['question'][idx]\n",
    "#     image = dataset['image'][idx]\n",
    "#     img_source = dataset['image_source'][idx]\n",
    "#     prompt = inject_info(img_source, question)\n",
    "#     response = generate_response(prompt, image)\n",
    "    \n",
    "#     with open(internvl_pope_output_path, 'a') as f:\n",
    "#         json.dump({\"question\": question, \"answer\": response}, f)\n",
    "#         f.write('\\n')\n",
    "\n",
    "# print(f\"InternVL's responses have been saved to {internvl_pope_output_path}\")"
   ]
  },
  {
   "cell_type": "code",
   "execution_count": null,
   "id": "dba4c77d",
   "metadata": {},
   "outputs": [],
   "source": [
    "# For HallusionBench\n",
    "internvl_base_hallusion_output_path =  os.path.join(os.curdir, \"internvl_base_hallusion_responses.json\")\n",
    "\n",
    "for idx in range(len(dataset)):\n",
    "    category = dataset['category'][idx]\n",
    "    subcategory = dataset['subcategory'][idx]\n",
    "    visual_input = dataset['visual_input'][idx]\n",
    "    set_id = dataset['set_id'][idx]\n",
    "    figure_id = dataset['figure_id'][idx]\n",
    "    sample_note = dataset['sample_note'][idx]\n",
    "    question_id = dataset['question_id'][idx]\n",
    "    question = dataset['question'][idx]\n",
    "    gt_answer_details = dataset['gt_answer_details'][idx]\n",
    "    filename = dataset['filename'][idx]\n",
    "    image = dataset['image'][idx]\n",
    "\n",
    "    # prompt = inject_info(filename, question) # Commented out when evaluating base model\n",
    "    model_prediction = generate_response(question, image)\n",
    "    \n",
    "    with open(internvl_base_hallusion_output_path, 'a') as f:\n",
    "        json.dump({\n",
    "            \"category\": category,\n",
    "            \"subcategory\": subcategory,\n",
    "            \"visual_input\": visual_input,\n",
    "            \"set_id\": set_id,\n",
    "            \"figure_id\": figure_id,\n",
    "            \"sample_note\": sample_note,\n",
    "            \"question_id\": question_id,\n",
    "            \"question\": question,\n",
    "            \"gt_answer_details\": gt_answer_details,\n",
    "            \"model_prediction\": model_prediction\n",
    "        }, f)\n",
    "        f.write(',\\n')\n",
    "    print(f\"Question {question_id} has been processed.\")\n",
    "\n",
    "print(f\"InternVL's responses have been saved to {internvl_base_hallusion_output_path}\")"
   ]
  }
 ],
 "metadata": {
  "kernelspec": {
   "display_name": "CS263-MLLM",
   "language": "python",
   "name": "python3"
  },
  "language_info": {
   "codemirror_mode": {
    "name": "ipython",
    "version": 3
   },
   "file_extension": ".py",
   "mimetype": "text/x-python",
   "name": "python",
   "nbconvert_exporter": "python",
   "pygments_lexer": "ipython3",
   "version": "3.12.7"
  }
 },
 "nbformat": 4,
 "nbformat_minor": 5
}
