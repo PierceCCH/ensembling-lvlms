{
 "cells": [
  {
   "cell_type": "code",
   "execution_count": 1,
   "id": "1e055263-d78d-498a-9de8-fdafbdc50889",
   "metadata": {
    "execution": {
     "iopub.execute_input": "2024-11-19T03:07:47.996913Z",
     "iopub.status.busy": "2024-11-19T03:07:47.995913Z",
     "iopub.status.idle": "2024-11-19T03:07:52.832739Z",
     "shell.execute_reply": "2024-11-19T03:07:52.832739Z",
     "shell.execute_reply.started": "2024-11-19T03:07:47.996913Z"
    }
   },
   "outputs": [],
   "source": [
    "import os\n",
    "import json\n",
    "import torch\n",
    "from datasets import load_dataset\n",
    "from transformers import AutoTokenizer, AutoModel\n",
    "import torchvision.transforms as T\n",
    "from PIL import Image\n",
    "from torchvision.transforms.functional import InterpolationMode\n",
    "import re"
   ]
  },
  {
   "cell_type": "code",
   "execution_count": 2,
   "id": "eb85ca52-3683-4742-b811-7484f4490604",
   "metadata": {
    "execution": {
     "iopub.execute_input": "2024-11-19T03:07:52.833743Z",
     "iopub.status.busy": "2024-11-19T03:07:52.833743Z",
     "iopub.status.idle": "2024-11-19T03:07:52.836408Z",
     "shell.execute_reply": "2024-11-19T03:07:52.836408Z",
     "shell.execute_reply.started": "2024-11-19T03:07:52.833743Z"
    }
   },
   "outputs": [],
   "source": [
    "device = torch.device('cuda' if torch.cuda.is_available else 'cpu')"
   ]
  },
  {
   "cell_type": "code",
   "execution_count": 3,
   "id": "40e99613-df6f-4dee-ac52-668eeed46b87",
   "metadata": {
    "execution": {
     "iopub.execute_input": "2024-11-19T03:07:52.836408Z",
     "iopub.status.busy": "2024-11-19T03:07:52.836408Z",
     "iopub.status.idle": "2024-11-19T03:07:52.842251Z",
     "shell.execute_reply": "2024-11-19T03:07:52.842251Z",
     "shell.execute_reply.started": "2024-11-19T03:07:52.836408Z"
    }
   },
   "outputs": [
    {
     "name": "stdout",
     "output_type": "stream",
     "text": [
      "cuda\n"
     ]
    }
   ],
   "source": [
    "print(device)"
   ]
  },
  {
   "cell_type": "code",
   "execution_count": 4,
   "id": "5f701982-570c-43cf-aa5e-d404054c7ee2",
   "metadata": {
    "execution": {
     "iopub.execute_input": "2024-11-19T03:07:57.341159Z",
     "iopub.status.busy": "2024-11-19T03:07:57.340159Z",
     "iopub.status.idle": "2024-11-19T03:07:57.347387Z",
     "shell.execute_reply": "2024-11-19T03:07:57.347387Z",
     "shell.execute_reply.started": "2024-11-19T03:07:57.341159Z"
    }
   },
   "outputs": [],
   "source": [
    "IMAGENET_MEAN = (0.485, 0.456, 0.406)\n",
    "IMAGENET_STD = (0.229, 0.224, 0.225)\n",
    "\n",
    "def build_transform(input_size):\n",
    "    MEAN, STD = IMAGENET_MEAN, IMAGENET_STD\n",
    "    transform = T.Compose([\n",
    "        T.Lambda(lambda img: img.convert('RGB') if img.mode != 'RGB' else img),\n",
    "        T.Resize((input_size, input_size), interpolation=InterpolationMode.BICUBIC),\n",
    "        T.ToTensor(),\n",
    "        T.Normalize(mean=MEAN, std=STD)\n",
    "    ])\n",
    "    return transform\n",
    "\n",
    "def find_closest_aspect_ratio(aspect_ratio, target_ratios, width, height, image_size):\n",
    "    best_ratio_diff = float('inf')\n",
    "    best_ratio = (1, 1)\n",
    "    area = width * height\n",
    "    for ratio in target_ratios:\n",
    "        target_aspect_ratio = ratio[0] / ratio[1]\n",
    "        ratio_diff = abs(aspect_ratio - target_aspect_ratio)\n",
    "        if ratio_diff < best_ratio_diff:\n",
    "            best_ratio_diff = ratio_diff\n",
    "            best_ratio = ratio\n",
    "        elif ratio_diff == best_ratio_diff:\n",
    "            if area > 0.5 * image_size * image_size * ratio[0] * ratio[1]:\n",
    "                best_ratio = ratio\n",
    "    return best_ratio\n",
    "\n",
    "def dynamic_preprocess(image, min_num=1, max_num=12, image_size=448, use_thumbnail=False):\n",
    "    orig_width, orig_height = image.size\n",
    "    aspect_ratio = orig_width / orig_height\n",
    "\n",
    "    # calculate the existing image aspect ratio\n",
    "    target_ratios = set(\n",
    "        (i, j) for n in range(min_num, max_num + 1) for i in range(1, n + 1) for j in range(1, n + 1) if\n",
    "        i * j <= max_num and i * j >= min_num)\n",
    "    target_ratios = sorted(target_ratios, key=lambda x: x[0] * x[1])\n",
    "\n",
    "    # find the closest aspect ratio to the target\n",
    "    target_aspect_ratio = find_closest_aspect_ratio(\n",
    "        aspect_ratio, target_ratios, orig_width, orig_height, image_size)\n",
    "\n",
    "    # calculate the target width and height\n",
    "    target_width = image_size * target_aspect_ratio[0]\n",
    "    target_height = image_size * target_aspect_ratio[1]\n",
    "    blocks = target_aspect_ratio[0] * target_aspect_ratio[1]\n",
    "\n",
    "    # resize the image\n",
    "    resized_img = image.resize((target_width, target_height))\n",
    "    processed_images = []\n",
    "    for i in range(blocks):\n",
    "        box = (\n",
    "            (i % (target_width // image_size)) * image_size,\n",
    "            (i // (target_width // image_size)) * image_size,\n",
    "            ((i % (target_width // image_size)) + 1) * image_size,\n",
    "            ((i // (target_width // image_size)) + 1) * image_size\n",
    "        )\n",
    "        # split the image\n",
    "        split_img = resized_img.crop(box)\n",
    "        processed_images.append(split_img)\n",
    "    assert len(processed_images) == blocks\n",
    "    if use_thumbnail and len(processed_images) != 1:\n",
    "        thumbnail_img = image.resize((image_size, image_size))\n",
    "        processed_images.append(thumbnail_img)\n",
    "    return processed_images\n",
    "\n",
    "def load_image(image_file, input_size=448, max_num=12):\n",
    "    image = image_file\n",
    "    transform = build_transform(input_size=input_size)\n",
    "    images = dynamic_preprocess(image, image_size=input_size, use_thumbnail=True, max_num=max_num)\n",
    "    pixel_values = [transform(image) for image in images]\n",
    "    pixel_values = torch.stack(pixel_values)\n",
    "    return pixel_values"
   ]
  },
  {
   "cell_type": "code",
   "execution_count": 5,
   "id": "73930f20-fc44-455c-b150-be42774e0645",
   "metadata": {
    "execution": {
     "iopub.execute_input": "2024-11-19T03:08:03.875545Z",
     "iopub.status.busy": "2024-11-19T03:08:03.874545Z",
     "iopub.status.idle": "2024-11-19T03:08:11.017691Z",
     "shell.execute_reply": "2024-11-19T03:08:11.017691Z",
     "shell.execute_reply.started": "2024-11-19T03:08:03.875545Z"
    }
   },
   "outputs": [
    {
     "name": "stderr",
     "output_type": "stream",
     "text": [
      "C:\\Users\\Preetham\\miniconda3\\envs\\cs263_proj\\Lib\\site-packages\\timm\\models\\layers\\__init__.py:48: FutureWarning: Importing from timm.models.layers is deprecated, please import via timm.layers\n",
      "  warnings.warn(f\"Importing from {__name__} is deprecated, please import via timm.layers\", FutureWarning)\n",
      "`flash-attention` package not found, consider installing for better performance: No module named 'flash_attn'.\n",
      "Current `flash-attenton` does not support `window_size`. Either upgrade or use `attn_implementation='eager'`.\n",
      "Phi3ForCausalLM has generative capabilities, as `prepare_inputs_for_generation` is explicitly overwritten. However, it doesn't directly inherit from `GenerationMixin`. From 👉v4.50👈 onwards, `PreTrainedModel` will NOT inherit from `GenerationMixin`, and this model will lose the ability to call `generate` and other related functions.\n",
      "  - If you're using `trust_remote_code=True`, you can get rid of this warning by loading the model with an auto class. See https://huggingface.co/docs/transformers/en/model_doc/auto#auto-classes\n",
      "  - If you are the owner of the model architecture code, please modify your model class such that it inherits from `GenerationMixin` (after `PreTrainedModel`, otherwise you'll get an exception).\n",
      "  - If you are not the owner of the model architecture class, please contact the model code owner to update it.\n"
     ]
    },
    {
     "name": "stdout",
     "output_type": "stream",
     "text": [
      "FlashAttention2 is not installed.\n",
      "Warning: Flash attention is not available, using eager attention instead.\n",
      "Warning: Flash attention is not available, using eager attention instead.\n"
     ]
    },
    {
     "data": {
      "application/vnd.jupyter.widget-view+json": {
       "model_id": "e42832d36e3040e0a54320bbde4f4edf",
       "version_major": 2,
       "version_minor": 0
      },
      "text/plain": [
       "Loading checkpoint shards:   0%|          | 0/2 [00:00<?, ?it/s]"
      ]
     },
     "metadata": {},
     "output_type": "display_data"
    }
   ],
   "source": [
    "path = \"OpenGVLab/InternVL2-4B\"\n",
    "model = AutoModel.from_pretrained(\n",
    "    path,\n",
    "    torch_dtype=torch.bfloat16,\n",
    "    low_cpu_mem_usage=True,\n",
    "    use_flash_attn=True,\n",
    "    trust_remote_code=True).eval().cuda()"
   ]
  },
  {
   "cell_type": "code",
   "execution_count": 6,
   "id": "ea55f718-7763-4835-a985-dc776bde2547",
   "metadata": {
    "execution": {
     "iopub.execute_input": "2024-11-19T03:08:11.020695Z",
     "iopub.status.busy": "2024-11-19T03:08:11.018694Z",
     "iopub.status.idle": "2024-11-19T03:08:11.215184Z",
     "shell.execute_reply": "2024-11-19T03:08:11.215184Z",
     "shell.execute_reply.started": "2024-11-19T03:08:11.020695Z"
    }
   },
   "outputs": [],
   "source": [
    "tokenizer = AutoTokenizer.from_pretrained(path, trust_remote_code=True, use_fast=False)"
   ]
  },
  {
   "cell_type": "code",
   "execution_count": 7,
   "id": "e10bf8d5-e44b-487e-a684-ce604be6aae7",
   "metadata": {
    "execution": {
     "iopub.execute_input": "2024-11-19T03:08:11.215184Z",
     "iopub.status.busy": "2024-11-19T03:08:11.215184Z",
     "iopub.status.idle": "2024-11-19T03:08:11.220107Z",
     "shell.execute_reply": "2024-11-19T03:08:11.220107Z",
     "shell.execute_reply.started": "2024-11-19T03:08:11.215184Z"
    }
   },
   "outputs": [
    {
     "name": "stdout",
     "output_type": "stream",
     "text": [
      "NVIDIA GeForce RTX 4090\n",
      "Memory Usage:\n",
      "Allocated: 7.7 GB\n",
      "Cached:    7.8 GB\n"
     ]
    }
   ],
   "source": [
    "#check where the tensors are allocated\n",
    "if device.type == 'cuda':\n",
    "    print(torch.cuda.get_device_name(0))\n",
    "    print('Memory Usage:')\n",
    "    print('Allocated:', round(torch.cuda.memory_allocated(0)/1024**3,1), 'GB')\n",
    "    print('Cached:   ', round(torch.cuda.memory_reserved(0)/1024**3,1), 'GB')"
   ]
  },
  {
   "cell_type": "code",
   "execution_count": 8,
   "id": "1a3cd464-d0fe-4409-84ca-45233e53b04a",
   "metadata": {
    "execution": {
     "iopub.execute_input": "2024-11-19T03:08:17.491811Z",
     "iopub.status.busy": "2024-11-19T03:08:17.490811Z",
     "iopub.status.idle": "2024-11-19T03:08:17.494636Z",
     "shell.execute_reply": "2024-11-19T03:08:17.494636Z",
     "shell.execute_reply.started": "2024-11-19T03:08:17.491811Z"
    }
   },
   "outputs": [],
   "source": [
    "#loading either hallusionbench or POPE\n",
    "def generate_response(question, image):\n",
    "    \"\"\" Prompt model with question regarding image and generate response.\n",
    "    Args:\n",
    "        question (str): question regarding the image content\n",
    "        image_path (str): PIL image object\n",
    "    \n",
    "    Returns:\n",
    "        response (str): model's response to the question\n",
    "    \"\"\"\n",
    "    if image:\n",
    "        pixel_values = load_image(image, max_num=12).to(torch.bfloat16).cuda() \n",
    "    generation_config = dict(max_new_tokens=1024, do_sample=True)\n",
    "    response, _ = model.chat(tokenizer, None, question, generation_config, history=None, return_history=True)\n",
    "    \n",
    "    return response"
   ]
  },
  {
   "cell_type": "code",
   "execution_count": 9,
   "id": "b00854fd-9e19-4003-8312-c6b908ad0094",
   "metadata": {
    "execution": {
     "iopub.execute_input": "2024-11-19T03:08:22.975688Z",
     "iopub.status.busy": "2024-11-19T03:08:22.974688Z",
     "iopub.status.idle": "2024-11-19T03:08:22.977987Z",
     "shell.execute_reply": "2024-11-19T03:08:22.977987Z",
     "shell.execute_reply.started": "2024-11-19T03:08:22.975688Z"
    }
   },
   "outputs": [],
   "source": [
    "internvl_pope_output_path = os.path.join(os.curdir, \"internvl_pope_responses.json\")\n",
    "internvl_hallusion_output_path =  os.path.join(os.curdir, \"internvl_hallusion_responses.json\")"
   ]
  },
  {
   "cell_type": "code",
   "execution_count": 10,
   "id": "579639bc-a3a3-4ba5-a453-098b94c98283",
   "metadata": {
    "execution": {
     "iopub.execute_input": "2024-11-19T03:08:25.446116Z",
     "iopub.status.busy": "2024-11-19T03:08:25.445115Z",
     "iopub.status.idle": "2024-11-19T03:08:28.301430Z",
     "shell.execute_reply": "2024-11-19T03:08:28.301430Z",
     "shell.execute_reply.started": "2024-11-19T03:08:25.446116Z"
    }
   },
   "outputs": [],
   "source": [
    "# Load POPE benchmark dataset\n",
    "dataset = load_dataset(\"lmms-lab/POPE\", \"default\")\n",
    "dataset = dataset['test'].filter(lambda x: x['category'] == 'adversarial')"
   ]
  },
  {
   "cell_type": "code",
   "execution_count": 11,
   "id": "a9e8c786-eaf3-40ca-b534-bdcd14d725a9",
   "metadata": {
    "execution": {
     "iopub.execute_input": "2024-11-19T03:08:38.582631Z",
     "iopub.status.busy": "2024-11-19T03:08:38.582631Z",
     "iopub.status.idle": "2024-11-19T03:08:38.584874Z",
     "shell.execute_reply": "2024-11-19T03:08:38.584874Z",
     "shell.execute_reply.started": "2024-11-19T03:08:38.582631Z"
    }
   },
   "outputs": [],
   "source": [
    "# #Load the Hallusion Bench dataset\n",
    "# dataset = load_dataset(\"lmms-lab/HallusionBench\", \"default\")\n",
    "# dataset = dataset['image']"
   ]
  },
  {
   "cell_type": "code",
   "execution_count": 12,
   "id": "926fcf1c-ec86-4508-8172-b3d53731e1b7",
   "metadata": {
    "execution": {
     "iopub.execute_input": "2024-11-19T03:08:39.280019Z",
     "iopub.status.busy": "2024-11-19T03:08:39.280019Z",
     "iopub.status.idle": "2024-11-19T03:08:39.284306Z",
     "shell.execute_reply": "2024-11-19T03:08:39.284306Z",
     "shell.execute_reply.started": "2024-11-19T03:08:39.280019Z"
    }
   },
   "outputs": [],
   "source": [
    "#access the RAM tags\n",
    "def tags_to_dict(filepath):\n",
    "    filepath = filepath\n",
    "    ram_data = {}\n",
    "    with open(filepath, 'r') as file:\n",
    "        for line in file:\n",
    "            line = line.strip().rstrip(\",\")\n",
    "    \n",
    "            data_entry = json.loads(line)\n",
    "    \n",
    "            ram_data.update(data_entry)\n",
    "    return ram_data"
   ]
  },
  {
   "cell_type": "code",
   "execution_count": 13,
   "id": "1ef610e1-3605-4681-bea7-5f7f3a4eaebc",
   "metadata": {
    "execution": {
     "iopub.execute_input": "2024-11-19T03:08:42.393625Z",
     "iopub.status.busy": "2024-11-19T03:08:42.392625Z",
     "iopub.status.idle": "2024-11-19T03:08:42.395458Z",
     "shell.execute_reply": "2024-11-19T03:08:42.395458Z",
     "shell.execute_reply.started": "2024-11-19T03:08:42.393625Z"
    }
   },
   "outputs": [],
   "source": [
    "pope_tag_path =  \"../../models/recognize-anything/pope_tags.json\"\n",
    "hallusion_tag_path = \"../../models/recognize-anything/hallusionBench_tags.json\""
   ]
  },
  {
   "cell_type": "code",
   "execution_count": 14,
   "id": "f66e070e-9a54-4b26-a7df-7ca98de8ceb4",
   "metadata": {
    "execution": {
     "iopub.execute_input": "2024-11-19T03:08:42.995958Z",
     "iopub.status.busy": "2024-11-19T03:08:42.994958Z",
     "iopub.status.idle": "2024-11-19T03:08:43.005262Z",
     "shell.execute_reply": "2024-11-19T03:08:43.005262Z",
     "shell.execute_reply.started": "2024-11-19T03:08:42.995958Z"
    }
   },
   "outputs": [],
   "source": [
    "ram_data = tags_to_dict(pope_tag_path)"
   ]
  },
  {
   "cell_type": "code",
   "execution_count": 15,
   "id": "8a6ac63b-4186-4064-85e7-69ccbe3b6e00",
   "metadata": {
    "execution": {
     "iopub.execute_input": "2024-11-19T03:08:47.588363Z",
     "iopub.status.busy": "2024-11-19T03:08:47.587363Z",
     "iopub.status.idle": "2024-11-19T03:08:47.591578Z",
     "shell.execute_reply": "2024-11-19T03:08:47.591578Z",
     "shell.execute_reply.started": "2024-11-19T03:08:47.588363Z"
    }
   },
   "outputs": [],
   "source": [
    "def obtain_attributes(img_src):\n",
    "    \"\"\"\n",
    "    Returns the attributes identified by RAM.\n",
    "    \"\"\"\n",
    "    injection = \"This image has these attributes: \"\n",
    "    image_attrs = ram_data[img_src]\n",
    "    image_attrs = image_attrs.replace('|',' ').split()\n",
    "    injection = \"This image has these attributes: \"\n",
    "    for i in range(len(image_attrs)):\n",
    "        if i == len(image_attrs) - 2:\n",
    "            injection = injection + image_attrs[i]+\", and \"\n",
    "        elif i == len(image_attrs) - 1:\n",
    "            injection = injection + image_attrs[i] +\". \"\n",
    "        else:\n",
    "            injection = injection + image_attrs[i] + \", \"\n",
    "    return injection\n",
    "    \n",
    "    "
   ]
  },
  {
   "cell_type": "code",
   "execution_count": 16,
   "id": "ceb2a074-07c8-45df-8f29-aef7a99f1b79",
   "metadata": {
    "execution": {
     "iopub.execute_input": "2024-11-19T03:08:48.567455Z",
     "iopub.status.busy": "2024-11-19T03:08:48.566455Z",
     "iopub.status.idle": "2024-11-19T03:08:48.569600Z",
     "shell.execute_reply": "2024-11-19T03:08:48.569600Z",
     "shell.execute_reply.started": "2024-11-19T03:08:48.567455Z"
    }
   },
   "outputs": [],
   "source": [
    "def inject_info(img_src, question):\n",
    "    \"\"\"\n",
    "    Injects prompt with any needed information. So given question, it will tell the lvlm also what it contains.\n",
    "    Should fine-tune prompt later.\n",
    "    \"\"\"\n",
    "    image_attrs = ram_data[img_src]\n",
    "    image_attrs = image_attrs.replace('|',' ').split()\n",
    "    injection = obtain_attributes(img_src)\n",
    "    injection = f\"You are a chatbot that will be shown an image and a question about the image, and your only task is to respond with either 'yes' or 'no'. You are given the following descriptive tags about the image: {injection}. Use these tags to help you answer the question, and make sure not to respond with anything more than a 'yes' or 'no'. The question is: {question}\"\n",
    "    return injection"
   ]
  },
  {
   "cell_type": "code",
   "execution_count": 17,
   "id": "27ccab20-f68a-4368-8bdb-29982f5fbad0",
   "metadata": {
    "execution": {
     "iopub.execute_input": "2024-11-19T03:08:52.692674Z",
     "iopub.status.busy": "2024-11-19T03:08:52.691674Z",
     "iopub.status.idle": "2024-11-19T03:08:52.694555Z",
     "shell.execute_reply": "2024-11-19T03:08:52.694555Z",
     "shell.execute_reply.started": "2024-11-19T03:08:52.692674Z"
    }
   },
   "outputs": [],
   "source": [
    "def llm_prompting(img_src, question):\n",
    "    attrs = obtain_attributes(img_src)\n",
    "    attrs = attrs[0].lower() + attrs[1:]\n",
    "    prompt = f\"Given that {attrs} Generate a description involving these attributes to best answer this question but do not answer the question: {question}\"\n",
    "    llm_prompt = generate_response(prompt, None)\n",
    "    return llm_prompt"
   ]
  },
  {
   "cell_type": "code",
   "execution_count": 18,
   "id": "63c1f9b4-3823-4425-925c-3c018f985182",
   "metadata": {
    "execution": {
     "iopub.execute_input": "2024-11-19T03:08:53.434460Z",
     "iopub.status.busy": "2024-11-19T03:08:53.434460Z",
     "iopub.status.idle": "2024-11-19T07:14:43.440277Z",
     "shell.execute_reply": "2024-11-19T07:14:43.440277Z",
     "shell.execute_reply.started": "2024-11-19T03:08:53.434460Z"
    }
   },
   "outputs": [
    {
     "name": "stderr",
     "output_type": "stream",
     "text": [
      "The `seen_tokens` attribute is deprecated and will be removed in v4.41. Use the `cache_position` model input instead.\n",
      "`get_max_cache()` is deprecated for all Cache classes. Use `get_max_cache_shape()` instead. Calling `get_max_cache()` will raise error from v4.48\n",
      "You are not running the flash-attention implementation, expect numerical differences.\n"
     ]
    },
    {
     "name": "stdout",
     "output_type": "stream",
     "text": [
      "InternVL's responses have been saved to .\\internvl_pope_responses.json\n"
     ]
    }
   ],
   "source": [
    "responses = []\n",
    "for idx in range(len(dataset)):\n",
    "    question = dataset['question'][idx]\n",
    "    image = dataset['image'][idx]\n",
    "    # img_source = dataset['filename'][idx] #this is for hallusion bench\n",
    "    img_source = dataset['image_source'][idx] #this is for pope\n",
    "    prompt = inject_info(img_source, question)\n",
    "    response = generate_response(prompt, image)\n",
    "    \n",
    "    with open(internvl_pope_output_path, 'a') as f:\n",
    "        json.dump({\"question\": question, \"answer\": response}, f)\n",
    "        f.write(',\\n')\n",
    "\n",
    "print(f\"InternVL's responses have been saved to {internvl_pope_output_path}\")"
   ]
  },
  {
   "cell_type": "code",
   "execution_count": null,
   "id": "cf33b8fd-a323-43d5-8626-20362f283289",
   "metadata": {},
   "outputs": [],
   "source": []
  }
 ],
 "metadata": {
  "kernelspec": {
   "display_name": "Python 3 (ipykernel)",
   "language": "python",
   "name": "python3"
  },
  "language_info": {
   "codemirror_mode": {
    "name": "ipython",
    "version": 3
   },
   "file_extension": ".py",
   "mimetype": "text/x-python",
   "name": "python",
   "nbconvert_exporter": "python",
   "pygments_lexer": "ipython3",
   "version": "3.12.7"
  }
 },
 "nbformat": 4,
 "nbformat_minor": 5
}
