{
 "cells": [
  {
   "cell_type": "code",
   "execution_count": null,
   "id": "1e055263-d78d-498a-9de8-fdafbdc50889",
   "metadata": {
    "execution": {
     "iopub.execute_input": "2024-11-23T06:01:24.858806Z",
     "iopub.status.busy": "2024-11-23T06:01:24.858806Z",
     "iopub.status.idle": "2024-11-23T06:01:27.785987Z",
     "shell.execute_reply": "2024-11-23T06:01:27.785987Z",
     "shell.execute_reply.started": "2024-11-23T06:01:24.858806Z"
    }
   },
   "outputs": [],
   "source": [
    "import os\n",
    "import json\n",
    "import torch\n",
    "from datasets import load_dataset\n",
    "from transformers import AutoTokenizer, AutoModel\n",
    "import torchvision.transforms as T\n",
    "from torchvision.transforms.functional import InterpolationMode"
   ]
  },
  {
   "cell_type": "code",
   "execution_count": null,
   "id": "eb85ca52-3683-4742-b811-7484f4490604",
   "metadata": {
    "execution": {
     "iopub.execute_input": "2024-11-23T06:01:27.786989Z",
     "iopub.status.busy": "2024-11-23T06:01:27.785987Z",
     "iopub.status.idle": "2024-11-23T06:01:27.789718Z",
     "shell.execute_reply": "2024-11-23T06:01:27.789718Z",
     "shell.execute_reply.started": "2024-11-23T06:01:27.786989Z"
    }
   },
   "outputs": [],
   "source": [
    "device = torch.device('cuda' if torch.cuda.is_available else 'cpu')\n",
    "print(device)"
   ]
  },
  {
   "cell_type": "code",
   "execution_count": null,
   "id": "5f701982-570c-43cf-aa5e-d404054c7ee2",
   "metadata": {
    "execution": {
     "iopub.execute_input": "2024-11-23T06:01:27.790721Z",
     "iopub.status.busy": "2024-11-23T06:01:27.789718Z",
     "iopub.status.idle": "2024-11-23T06:01:27.800761Z",
     "shell.execute_reply": "2024-11-23T06:01:27.800761Z",
     "shell.execute_reply.started": "2024-11-23T06:01:27.790721Z"
    }
   },
   "outputs": [],
   "source": [
    "IMAGENET_MEAN = (0.485, 0.456, 0.406)\n",
    "IMAGENET_STD = (0.229, 0.224, 0.225)\n",
    "\n",
    "def build_transform(input_size):\n",
    "    MEAN, STD = IMAGENET_MEAN, IMAGENET_STD\n",
    "    transform = T.Compose([\n",
    "        T.Lambda(lambda img: img.convert('RGB') if img.mode != 'RGB' else img),\n",
    "        T.Resize((input_size, input_size), interpolation=InterpolationMode.BICUBIC),\n",
    "        T.ToTensor(),\n",
    "        T.Normalize(mean=MEAN, std=STD)\n",
    "    ])\n",
    "    return transform\n",
    "\n",
    "def find_closest_aspect_ratio(aspect_ratio, target_ratios, width, height, image_size):\n",
    "    best_ratio_diff = float('inf')\n",
    "    best_ratio = (1, 1)\n",
    "    area = width * height\n",
    "    for ratio in target_ratios:\n",
    "        target_aspect_ratio = ratio[0] / ratio[1]\n",
    "        ratio_diff = abs(aspect_ratio - target_aspect_ratio)\n",
    "        if ratio_diff < best_ratio_diff:\n",
    "            best_ratio_diff = ratio_diff\n",
    "            best_ratio = ratio\n",
    "        elif ratio_diff == best_ratio_diff:\n",
    "            if area > 0.5 * image_size * image_size * ratio[0] * ratio[1]:\n",
    "                best_ratio = ratio\n",
    "    return best_ratio\n",
    "\n",
    "def dynamic_preprocess(image, min_num=1, max_num=12, image_size=448, use_thumbnail=False):\n",
    "    orig_width, orig_height = image.size\n",
    "    aspect_ratio = orig_width / orig_height\n",
    "\n",
    "    # calculate the existing image aspect ratio\n",
    "    target_ratios = set(\n",
    "        (i, j) for n in range(min_num, max_num + 1) for i in range(1, n + 1) for j in range(1, n + 1) if\n",
    "        i * j <= max_num and i * j >= min_num)\n",
    "    target_ratios = sorted(target_ratios, key=lambda x: x[0] * x[1])\n",
    "\n",
    "    # find the closest aspect ratio to the target\n",
    "    target_aspect_ratio = find_closest_aspect_ratio(\n",
    "        aspect_ratio, target_ratios, orig_width, orig_height, image_size)\n",
    "\n",
    "    # calculate the target width and height\n",
    "    target_width = image_size * target_aspect_ratio[0]\n",
    "    target_height = image_size * target_aspect_ratio[1]\n",
    "    blocks = target_aspect_ratio[0] * target_aspect_ratio[1]\n",
    "\n",
    "    # resize the image\n",
    "    resized_img = image.resize((target_width, target_height))\n",
    "    processed_images = []\n",
    "    for i in range(blocks):\n",
    "        box = (\n",
    "            (i % (target_width // image_size)) * image_size,\n",
    "            (i // (target_width // image_size)) * image_size,\n",
    "            ((i % (target_width // image_size)) + 1) * image_size,\n",
    "            ((i // (target_width // image_size)) + 1) * image_size\n",
    "        )\n",
    "        # split the image\n",
    "        split_img = resized_img.crop(box)\n",
    "        processed_images.append(split_img)\n",
    "    assert len(processed_images) == blocks\n",
    "    if use_thumbnail and len(processed_images) != 1:\n",
    "        thumbnail_img = image.resize((image_size, image_size))\n",
    "        processed_images.append(thumbnail_img)\n",
    "    return processed_images\n",
    "\n",
    "def load_image(image_file, input_size=448, max_num=12):\n",
    "    image = image_file\n",
    "    transform = build_transform(input_size=input_size)\n",
    "    images = dynamic_preprocess(image, image_size=input_size, use_thumbnail=True, max_num=max_num)\n",
    "    pixel_values = [transform(image) for image in images]\n",
    "    pixel_values = torch.stack(pixel_values)\n",
    "    return pixel_values"
   ]
  },
  {
   "cell_type": "code",
   "execution_count": null,
   "id": "73930f20-fc44-455c-b150-be42774e0645",
   "metadata": {
    "execution": {
     "iopub.execute_input": "2024-11-21T05:35:32.007287Z",
     "iopub.status.busy": "2024-11-21T05:35:32.006283Z",
     "iopub.status.idle": "2024-11-21T05:35:40.375367Z",
     "shell.execute_reply": "2024-11-21T05:35:40.375367Z",
     "shell.execute_reply.started": "2024-11-21T05:35:32.007287Z"
    }
   },
   "outputs": [],
   "source": [
    "path = \"OpenGVLab/InternVL2-1B\"\n",
    "model = AutoModel.from_pretrained(\n",
    "    path,\n",
    "    torch_dtype=torch.bfloat16,\n",
    "    low_cpu_mem_usage=True,\n",
    "    use_flash_attn=True,\n",
    "    trust_remote_code=True).eval().cuda()\n",
    "\n",
    "tokenizer = AutoTokenizer.from_pretrained(path, trust_remote_code=True, use_fast=False)"
   ]
  },
  {
   "cell_type": "code",
   "execution_count": null,
   "id": "e10bf8d5-e44b-487e-a684-ce604be6aae7",
   "metadata": {
    "execution": {
     "iopub.execute_input": "2024-11-23T06:07:54.231741Z",
     "iopub.status.busy": "2024-11-23T06:07:54.231741Z",
     "iopub.status.idle": "2024-11-23T06:07:54.235862Z",
     "shell.execute_reply": "2024-11-23T06:07:54.235862Z",
     "shell.execute_reply.started": "2024-11-23T06:07:54.231741Z"
    }
   },
   "outputs": [],
   "source": [
    "#check where the tensors are allocated\n",
    "if device.type == 'cuda':\n",
    "    print(torch.cuda.get_device_name(0))\n",
    "    print('Memory Usage:')\n",
    "    print('Allocated:', round(torch.cuda.memory_allocated(0)/1024**3,1), 'GB')\n",
    "    print('Cached:   ', round(torch.cuda.memory_reserved(0)/1024**3,1), 'GB')"
   ]
  },
  {
   "cell_type": "code",
   "execution_count": null,
   "id": "1a3cd464-d0fe-4409-84ca-45233e53b04a",
   "metadata": {
    "execution": {
     "iopub.execute_input": "2024-11-23T06:07:54.239865Z",
     "iopub.status.busy": "2024-11-23T06:07:54.238865Z",
     "iopub.status.idle": "2024-11-23T06:07:54.243132Z",
     "shell.execute_reply": "2024-11-23T06:07:54.243132Z",
     "shell.execute_reply.started": "2024-11-23T06:07:54.239865Z"
    }
   },
   "outputs": [],
   "source": [
    "def generate_response(question, image):\n",
    "    \"\"\" Prompt model with question regarding image and generate response.\n",
    "    Args:\n",
    "        question (str): question regarding the image content\n",
    "        image_path (str): PIL image object\n",
    "    \n",
    "    Returns:\n",
    "        response (str): model's response to the question\n",
    "    \"\"\"\n",
    "    if image:\n",
    "        pixel_values = load_image(image, max_num=12).to(torch.bfloat16).cuda() \n",
    "    generation_config = dict(max_new_tokens=1024, do_sample=True, max_time=90)\n",
    "    response, _ = model.chat(tokenizer, None, question, generation_config, history=None, return_history=True)\n",
    "    \n",
    "    return response"
   ]
  },
  {
   "cell_type": "markdown",
   "id": "d9929f61",
   "metadata": {},
   "source": [
    "# Choose which benchmark for evaluation"
   ]
  },
  {
   "cell_type": "code",
   "execution_count": null,
   "id": "80edbdcd",
   "metadata": {},
   "outputs": [],
   "source": [
    "# set benchmark. Options are POPE or HallusionBench \n",
    "benchmark = \"POPE\"\n",
    "\n",
    "# set if we want the LVLM to generate a prompt for itself\n",
    "double_prompting = False"
   ]
  },
  {
   "cell_type": "markdown",
   "id": "b5648f2c",
   "metadata": {},
   "source": [
    "### Load dataset\n"
   ]
  },
  {
   "cell_type": "code",
   "execution_count": null,
   "id": "579639bc-a3a3-4ba5-a453-098b94c98283",
   "metadata": {
    "execution": {
     "iopub.execute_input": "2024-11-23T06:07:54.244136Z",
     "iopub.status.busy": "2024-11-23T06:07:54.244136Z",
     "iopub.status.idle": "2024-11-23T06:08:00.540400Z",
     "shell.execute_reply": "2024-11-23T06:08:00.540400Z",
     "shell.execute_reply.started": "2024-11-23T06:07:54.244136Z"
    }
   },
   "outputs": [],
   "source": [
    "if benchmark == \"POPE\":\n",
    "    # Load POPE benchmark dataset\n",
    "    dataset = load_dataset(\"lmms-lab/POPE\", \"default\")\n",
    "    dataset = dataset['test'].filter(lambda x: x['category'] == 'adversarial')\n",
    "    tags_path =  \"../results/pope_tags.json\"\n",
    "\n",
    "elif benchmark == \"HallusionBench\":\n",
    "    dataset = load_dataset(\"lmms-lab/HallusionBench\", \"default\")\n",
    "    dataset = dataset['image']\n",
    "    tags_path = \"../results/hallusionBench_tags.json\"\n",
    "\n",
    "dataset"
   ]
  },
  {
   "cell_type": "code",
   "execution_count": null,
   "id": "926fcf1c-ec86-4508-8172-b3d53731e1b7",
   "metadata": {
    "execution": {
     "iopub.execute_input": "2024-11-23T06:08:00.544220Z",
     "iopub.status.busy": "2024-11-23T06:08:00.544220Z",
     "iopub.status.idle": "2024-11-23T06:08:00.562862Z",
     "shell.execute_reply": "2024-11-23T06:08:00.562862Z",
     "shell.execute_reply.started": "2024-11-23T06:08:00.544220Z"
    }
   },
   "outputs": [],
   "source": [
    "def tags_to_dict(filepath):\n",
    "    \"\"\"\n",
    "    Access RAM tags from json file and convert to dictionary.\n",
    "    \"\"\"\n",
    "    filepath = filepath\n",
    "    ram_data = {}\n",
    "    with open(filepath, 'r') as file:\n",
    "        for line in file:\n",
    "            line = line.strip().rstrip(\",\")\n",
    "    \n",
    "            data_entry = json.loads(line)\n",
    "    \n",
    "            ram_data.update(data_entry)\n",
    "    return ram_data\n",
    "\n",
    "ram_data = tags_to_dict(tags_path)"
   ]
  },
  {
   "cell_type": "code",
   "execution_count": null,
   "id": "8a6ac63b-4186-4064-85e7-69ccbe3b6e00",
   "metadata": {
    "execution": {
     "iopub.execute_input": "2024-11-23T06:08:00.563864Z",
     "iopub.status.busy": "2024-11-23T06:08:00.562862Z",
     "iopub.status.idle": "2024-11-23T06:08:00.566066Z",
     "shell.execute_reply": "2024-11-23T06:08:00.566066Z",
     "shell.execute_reply.started": "2024-11-23T06:08:00.563864Z"
    }
   },
   "outputs": [],
   "source": [
    "def obtain_attributes(img_src):\n",
    "    \"\"\"\n",
    "    Returns the attributes identified by RAM.\n",
    "    \"\"\"\n",
    "    injection = \"This image has these attributes: \"\n",
    "    image_attrs = ram_data[img_src]\n",
    "    image_attrs = image_attrs.replace('|',' ').split()\n",
    "    injection = \"This image has these attributes: \"\n",
    "    for i in range(len(image_attrs)):\n",
    "        if i == len(image_attrs) - 2:\n",
    "            injection = injection + image_attrs[i]+\", and \"\n",
    "        elif i == len(image_attrs) - 1:\n",
    "            injection = injection + image_attrs[i] +\". \"\n",
    "        else:\n",
    "            injection = injection + image_attrs[i] + \", \"\n",
    "    return injection"
   ]
  },
  {
   "cell_type": "code",
   "execution_count": null,
   "id": "ceb2a074-07c8-45df-8f29-aef7a99f1b79",
   "metadata": {
    "execution": {
     "iopub.execute_input": "2024-11-23T06:08:00.567069Z",
     "iopub.status.busy": "2024-11-23T06:08:00.566066Z",
     "iopub.status.idle": "2024-11-23T06:08:00.571135Z",
     "shell.execute_reply": "2024-11-23T06:08:00.571135Z",
     "shell.execute_reply.started": "2024-11-23T06:08:00.567069Z"
    }
   },
   "outputs": [],
   "source": [
    "def inject_info(img_src, question):\n",
    "    \"\"\"\n",
    "    Injects prompt with any needed information. So given question, it will tell the lvlm also what it contains.\n",
    "    Should fine-tune prompt later.\n",
    "    \"\"\"\n",
    "    image_attrs = ram_data[img_src]\n",
    "    image_attrs = image_attrs.replace('|',' ').split()\n",
    "    injection = obtain_attributes(img_src)\n",
    "    injection = f\"Objects in image: {injection}. {question}\"\n",
    "    \n",
    "    return injection"
   ]
  },
  {
   "cell_type": "code",
   "execution_count": null,
   "id": "27ccab20-f68a-4368-8bdb-29982f5fbad0",
   "metadata": {
    "execution": {
     "iopub.execute_input": "2024-11-23T06:08:00.572139Z",
     "iopub.status.busy": "2024-11-23T06:08:00.572139Z",
     "iopub.status.idle": "2024-11-23T06:08:00.576218Z",
     "shell.execute_reply": "2024-11-23T06:08:00.576218Z",
     "shell.execute_reply.started": "2024-11-23T06:08:00.572139Z"
    }
   },
   "outputs": [],
   "source": [
    "def llm_prompting(img_src, image, question):\n",
    "    \"\"\"\n",
    "    Prompt the model to describe the image using the tags generated by RAM.\n",
    "    Returns an augmented prompt containing the LVLM's own description of the image.\n",
    "    \"\"\"\n",
    "    attrs = obtain_attributes(img_src)\n",
    "    attrs = attrs[0].lower() + attrs[1:]\n",
    "    \n",
    "    prompt = f\"The following tags can be used to describe the image: {attrs}. Use the tags to help you describe the image. What do you see?\"\n",
    "    \n",
    "    llm_prompt = generate_response(prompt, image)\n",
    "    prompt = f\"{llm_prompt} Answer the question using a single word or phrase. {question}\"\n",
    "    return prompt"
   ]
  },
  {
   "cell_type": "markdown",
   "id": "25ab75ec",
   "metadata": {},
   "source": [
    "## Generate LVLM responses"
   ]
  },
  {
   "cell_type": "code",
   "execution_count": null,
   "id": "a27dc2a9",
   "metadata": {},
   "outputs": [],
   "source": [
    "print(f\"Generating responses for: {benchmark}. Double prompting: {double_prompting}\")"
   ]
  },
  {
   "cell_type": "code",
   "execution_count": null,
   "id": "473aaef7",
   "metadata": {},
   "outputs": [],
   "source": [
    "double_prompting = True"
   ]
  },
  {
   "cell_type": "code",
   "execution_count": null,
   "id": "5909b010",
   "metadata": {
    "execution": {
     "iopub.execute_input": "2024-11-23T06:09:51.251927Z",
     "iopub.status.busy": "2024-11-23T06:09:51.251927Z",
     "iopub.status.idle": "2024-11-23T17:15:32.288446Z",
     "shell.execute_reply": "2024-11-23T17:15:32.288446Z",
     "shell.execute_reply.started": "2024-11-23T06:09:51.251927Z"
    }
   },
   "outputs": [],
   "source": [
    "if benchmark == \"POPE\":\n",
    "\n",
    "    for idx in range(len(dataset)):\n",
    "        question = dataset['question'][idx]\n",
    "        image = dataset['image'][idx]\n",
    "        img_source = dataset['image_source'][idx]\n",
    "        \n",
    "        if double_prompting:\n",
    "            internvl_pope_output_path = os.path.join(os.curdir, \"../results/internvl_2xPrompting_RAM_pope_responses.json\")\n",
    "            prompt = llm_prompting(img_source, image, question)\n",
    "        else:\n",
    "            internvl_pope_output_path = os.path.join(os.curdir, \"../results/internvl_RAM_pope_responses.json\")\n",
    "            prompt = inject_info(img_source, question)\n",
    "        response = generate_response(prompt, image)\n",
    "        \n",
    "        with open(internvl_pope_output_path, 'a') as f:\n",
    "            json.dump({\"question\": question, \"answer\": response}, f)\n",
    "            f.write('\\n')\n",
    "\n",
    "    print(f\"InternVL's responses have been saved to {internvl_pope_output_path}\")\n",
    "\n",
    "elif benchmark == \"HallusionBench\":\n",
    "    for idx in range(len(dataset)):\n",
    "        category = dataset['category'][idx]\n",
    "        subcategory = dataset['subcategory'][idx]\n",
    "        visual_input = dataset['visual_input'][idx]\n",
    "        set_id = dataset['set_id'][idx]\n",
    "        figure_id = dataset['figure_id'][idx]\n",
    "        sample_note = dataset['sample_note'][idx]\n",
    "        question_id = dataset['question_id'][idx]\n",
    "        question = dataset['question'][idx]\n",
    "        gt_answer_details = dataset['gt_answer_details'][idx]\n",
    "        filename = dataset['filename'][idx]\n",
    "        image = dataset['image'][idx]\n",
    "\n",
    "        if double_prompting:\n",
    "            internvl_RAM_hallusion_output_path =  os.path.join(os.curdir, \"../results/internvl_2xPrompting_RAM_hallusion_responses.json\")\n",
    "            prompt = llm_prompting(filename, image, question)\n",
    "        else:\n",
    "            internvl_RAM_hallusion_output_path =  os.path.join(os.curdir, \"../results/internvl_RAM_hallusion_responses.json\")\n",
    "            prompt = inject_info(filename, question)\n",
    "            \n",
    "        model_prediction = generate_response(prompt, image)\n",
    "        \n",
    "        with open(internvl_RAM_hallusion_output_path, 'a') as f:\n",
    "            json.dump({\n",
    "                \"category\": category,\n",
    "                \"subcategory\": subcategory,\n",
    "                \"visual_input\": visual_input,\n",
    "                \"set_id\": set_id,\n",
    "                \"figure_id\": figure_id,\n",
    "                \"sample_note\": sample_note,\n",
    "                \"question_id\": question_id,\n",
    "                \"question\": question,\n",
    "                \"gt_answer_details\": gt_answer_details,\n",
    "                \"model_prediction\": model_prediction\n",
    "            }, f)\n",
    "            f.write('\\n')\n",
    "        print(f\"Question {question_id} has been processed.\")\n",
    "\n",
    "    print(f\"InternVL's responses have been saved to {internvl_RAM_hallusion_output_path}\")"
   ]
  }
 ],
 "metadata": {
  "kernelspec": {
   "display_name": "CS263-MLLM",
   "language": "python",
   "name": "python3"
  },
  "language_info": {
   "codemirror_mode": {
    "name": "ipython",
    "version": 3
   },
   "file_extension": ".py",
   "mimetype": "text/x-python",
   "name": "python",
   "nbconvert_exporter": "python",
   "pygments_lexer": "ipython3",
   "version": "3.12.7"
  }
 },
 "nbformat": 4,
 "nbformat_minor": 5
}
