{
 "cells": [
  {
   "cell_type": "code",
   "execution_count": 8,
   "id": "8805131f-eb56-4351-aca8-0461787a3952",
   "metadata": {},
   "outputs": [],
   "source": [
    "import os\n",
    "import json\n",
    "from datasets import load_dataset\n",
    "from PIL import Image\n",
    "import numpy as np\n",
    "from pathlib import Path"
   ]
  },
  {
   "cell_type": "code",
   "execution_count": 5,
   "id": "133a0569-5a5e-4d82-9bf0-d97cbbf6f86e",
   "metadata": {},
   "outputs": [
    {
     "name": "stdout",
     "output_type": "stream",
     "text": [
      "951\n"
     ]
    },
    {
     "data": {
      "text/plain": [
       "Dataset({\n",
       "    features: ['category', 'subcategory', 'visual_input', 'set_id', 'figure_id', 'sample_note', 'question_id', 'question', 'gt_answer_details', 'gt_answer', 'filename', 'image'],\n",
       "    num_rows: 951\n",
       "})"
      ]
     },
     "execution_count": 5,
     "metadata": {},
     "output_type": "execute_result"
    }
   ],
   "source": [
    "# Load the hallusion dataset\n",
    "hallusion_dataset = load_dataset(\"lmms-lab/HallusionBench\", \"default\")\n",
    "hallusion_dataset = hallusion_dataset['image']\n",
    "\n",
    "print( len( hallusion_dataset ) )\n",
    "hallusion_dataset"
   ]
  },
  {
   "cell_type": "code",
   "execution_count": 4,
   "id": "ceca3816-a06f-4bf8-8513-b8c43704962e",
   "metadata": {},
   "outputs": [
    {
     "data": {
      "text/plain": [
       "Dataset({\n",
       "    features: ['id', 'question_id', 'question', 'answer', 'image_source', 'image', 'category'],\n",
       "    num_rows: 3000\n",
       "})"
      ]
     },
     "execution_count": 4,
     "metadata": {},
     "output_type": "execute_result"
    }
   ],
   "source": [
    "# Load the pope dataset\n",
    "pope_dataset = load_dataset(\"lmms-lab/POPE\", \"default\")\n",
    "pope_dataset = pope_dataset['test'].filter(lambda x: x['category'] == 'adversarial')\n",
    "\n",
    "pope_dataset"
   ]
  },
  {
   "cell_type": "code",
   "execution_count": 20,
   "id": "5fdfa91c-d198-4b45-a1d4-d2fc783496ab",
   "metadata": {},
   "outputs": [],
   "source": [
    "# Get the answers from POPE and HallusionBench\n",
    "pope_answers = np.array( pope_dataset[\"answer\"] )\n",
    "hallusion_answers = np.array( hallusion_dataset[\"gt_answer\"] )"
   ]
  },
  {
   "cell_type": "code",
   "execution_count": 37,
   "id": "903aafea-45dc-42ec-bc7f-8a33e20333a7",
   "metadata": {},
   "outputs": [
    {
     "name": "stdout",
     "output_type": "stream",
     "text": [
      "internvl_RAM_hallusion_responses.json Accuracy: 0.544689800210305\n",
      "internvl_RAM_pope_responses.json Accuracy: 0.7506666666666667\n",
      "internvl_base_hallusion_responses.json Accuracy: 0.526813880126183\n",
      "internvl_base_pope_responses.json Accuracy: 0.493\n"
     ]
    }
   ],
   "source": [
    "# Get the accuracy of each test\n",
    "for results_file in Path(\"./\").glob(\"*.json\"):\n",
    "    fileName = str( results_file )\n",
    "    with open(results_file, \"r\") as f:\n",
    "        file_string = f.read().split( \"\\n\" )\n",
    "\n",
    "    if( \"pope\" in str( results_file ) ):\n",
    "        model_answers = np.array( [\"yes\" if \"yes\" in s.lower() else \"no\" for s in file_string] )\n",
    "        print( f\"{fileName} Accuracy: {np.sum( model_answers == pope_answers ) / len( model_answers )}\" ) \n",
    "    else:\n",
    "        model_answers = np.array( [\"1\" if \"yes\" in s.lower().partition( \"model_prediction\" )[-1] else \"0\" for s in file_string] )\n",
    "        print( f\"{fileName} Accuracy: {np.sum( model_answers == hallusion_answers ) / len( model_answers )}\" ) "
   ]
  },
  {
   "cell_type": "code",
   "execution_count": null,
   "id": "214bd308-7dfb-4721-8b73-cec66cd6ba94",
   "metadata": {},
   "outputs": [],
   "source": []
  }
 ],
 "metadata": {
  "kernelspec": {
   "display_name": "Python 3 (ipykernel)",
   "language": "python",
   "name": "python3"
  },
  "language_info": {
   "codemirror_mode": {
    "name": "ipython",
    "version": 3
   },
   "file_extension": ".py",
   "mimetype": "text/x-python",
   "name": "python",
   "nbconvert_exporter": "python",
   "pygments_lexer": "ipython3",
   "version": "3.10.15"
  }
 },
 "nbformat": 4,
 "nbformat_minor": 5
}
